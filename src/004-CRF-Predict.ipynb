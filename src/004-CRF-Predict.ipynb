{
 "cells": [
  {
   "cell_type": "code",
   "execution_count": 1,
   "metadata": {},
   "outputs": [],
   "source": [
    "from networks.UNet import LitUNet\n",
    "from lightning import Trainer\n",
    "from torch.nn.functional import softmax\n",
    "import torchvision\n",
    "from transforms import Resize"
   ]
  },
  {
   "cell_type": "code",
   "execution_count": 2,
   "metadata": {},
   "outputs": [],
   "source": [
    "import os\n",
    "from skimage.io import imread\n",
    "from skimage.transform import rescale, resize\n",
    "import numpy as np\n",
    "import matplotlib.pyplot as plt\n",
    "import torch\n",
    "from glob import glob"
   ]
  },
  {
   "cell_type": "code",
   "execution_count": 3,
   "metadata": {},
   "outputs": [],
   "source": [
    "from data.dataset import OEMMiniDataset\n",
    "from torch.utils.data import DataLoader"
   ]
  },
  {
   "cell_type": "code",
   "execution_count": 4,
   "metadata": {},
   "outputs": [
    {
     "name": "stderr",
     "output_type": "stream",
     "text": [
      "GPU available: True (cuda), used: False\n",
      "TPU available: False, using: 0 TPU cores\n",
      "IPU available: False, using: 0 IPUs\n",
      "HPU available: False, using: 0 HPUs\n",
      "/opt/conda/envs/pytorch/lib/python3.10/site-packages/lightning/pytorch/trainer/setup.py:187: GPU available but not used. You can set it by doing `Trainer(accelerator='gpu')`.\n",
      "/opt/conda/envs/pytorch/lib/python3.10/site-packages/lightning/pytorch/trainer/connectors/logger_connector/logger_connector.py:75: Starting from v1.9.0, `tensorboardX` has been removed as a dependency of the `lightning.pytorch` package, due to potential conflicts with other packages in the ML ecosystem. For this reason, `logger=True` will use `CSVLogger` as the default logger, unless the `tensorboard` or `tensorboardX` packages are found. Please `pip install lightning[extra]` or one of them to enable TensorBoard support by default\n"
     ]
    }
   ],
   "source": [
    "map_location = {'cuda:0':'cpu'}\n",
    "ckpt_pth = glob('/home/ubuntu/hrl/oem_mini_experiments/.neptune/Untitled/MIN-38/checkpoints/*.ckpt')\n",
    "model = LitUNet.load_from_checkpoint(checkpoint_path=ckpt_pth[0], map_location='cpu')\n",
    "trainer = Trainer(accelerator='cpu',num_nodes=1)"
   ]
  },
  {
   "cell_type": "code",
   "execution_count": 5,
   "metadata": {},
   "outputs": [],
   "source": [
    "import numpy as np\n",
    "import pydensecrf.densecrf as dcrf\n",
    "from pydensecrf.utils import unary_from_softmax, create_pairwise_bilateral, create_pairwise_gaussian\n",
    "d = dcrf.DenseCRF2D(512, 512, 9)  # width, height, nlabels"
   ]
  },
  {
   "cell_type": "code",
   "execution_count": 6,
   "metadata": {},
   "outputs": [],
   "source": [
    "from matplotlib.pyplot import figure\n",
    "\n",
    "def pred_labels(trainer, dataloader, im):\n",
    "    preds = trainer.predict(model, dataloaders=dataloader)\n",
    "    print(preds[0][0].shape)\n",
    "    print(preds[0][1].shape)\n",
    "    print(preds[0][2].shape)\n",
    "    pred_soft_flatten = preds[0][2].squeeze().transpose(2,0,1).reshape(9,-1)\n",
    "    \n",
    "    U = unary_from_softmax(pred_soft_flatten)\n",
    "\n",
    "    # U = -np.log(U)\n",
    "    d.setUnaryEnergy(U)\n",
    "\n",
    "    d.addPairwiseBilateral(sxy=(9,9), srgb=(256,256,256), rgbim=im, compat=10, kernel=dcrf.DIAG_KERNEL, normalization=dcrf.NORMALIZE_SYMMETRIC)\n",
    "    # d.addPairwiseGaussian(sxy=3, compat=3)\n",
    "    Q = d.inference(3)\n",
    "    pred = np.argmax(Q, axis=0).reshape((512, 512))\n",
    "    return pred, preds[0][0]\n",
    "    # return preds[0][0]\n",
    "\n",
    "\n",
    "\n",
    "def viz_data(image_pth):\n",
    "    img = imread(image_pth)\n",
    "    img_list = glob(image_pth)\n",
    "    val_augm = torchvision.transforms.Compose(\n",
    "                    [\n",
    "                        Resize(512),\n",
    "                    ],\n",
    "                )\n",
    "    predict_loader = DataLoader(OEMMiniDataset(img_list, augm=val_augm), batch_size=1)\n",
    "    crf, preds = pred_labels(trainer=trainer, dataloader=predict_loader, im=resize(img, (512, 512), anti_aliasing=True))\n",
    "    plt.rcParams[\"figure.figsize\"] = (16,4)\n",
    "    try:\n",
    "        label = imread(image_pth.replace('/images/', '/labels/'))\n",
    "        pl, pc= np.unique(preds, return_counts=True)\n",
    "        al, ac= np.unique(label, return_counts=True)\n",
    "        f, imx = plt.subplots(1,4)\n",
    "        imx[0].imshow(img)\n",
    "        imx[0].set_title('RGB')\n",
    "        imx[1].imshow(label)\n",
    "        imx[1].set_title('GT')\n",
    "        imx[2].imshow(preds)\n",
    "        imx[2].set_title('Predicted')\n",
    "        imx[3].imshow(crf)\n",
    "        imx[3].set_title('CRF refined')\n",
    "        print(f'Pred Labels found: {pl}')\n",
    "        np.set_printoptions(precision=3, suppress=True)\n",
    "        print(f'Pred percentages: {pc/np.sum(pc)*100}')\n",
    "        print(f'Actual Labels found: {al}')\n",
    "        np.set_printoptions(precision=3, suppress=True)\n",
    "        print(f'Pred percentages: {ac/np.sum(ac)*100}')\n",
    "        \n",
    "    except:\n",
    "        pl, pc= np.unique(preds, return_counts=True)\n",
    "        f, imx = plt.subplots(1,2)\n",
    "        imx[0].imshow(img)\n",
    "        imx[1].imshow(preds)\n",
    "        print(f'Pred Labels found: {pl}')\n",
    "        np.set_printoptions(precision=3, suppress=True)\n",
    "        print(f'Label percentages: {pc/np.sum(pc)*100}')"
   ]
  },
  {
   "cell_type": "code",
   "execution_count": 7,
   "metadata": {},
   "outputs": [
    {
     "name": "stderr",
     "output_type": "stream",
     "text": [
      "/opt/conda/envs/pytorch/lib/python3.10/site-packages/lightning/pytorch/trainer/connectors/data_connector.py:441: The 'predict_dataloader' does not have many workers which may be a bottleneck. Consider increasing the value of the `num_workers` argument` to `num_workers=7` in the `DataLoader` to improve performance.\n"
     ]
    },
    {
     "data": {
      "application/vnd.jupyter.widget-view+json": {
       "model_id": "30960b3eea30424ab122c0515d7e4970",
       "version_major": 2,
       "version_minor": 0
      },
      "text/plain": [
       "Predicting: |          | 0/? [00:00<?, ?it/s]"
      ]
     },
     "metadata": {},
     "output_type": "display_data"
    },
    {
     "name": "stdout",
     "output_type": "stream",
     "text": [
      "(512, 512, 1)\n",
      "(512, 512, 1)\n",
      "(512, 512, 9, 1)\n"
     ]
    },
    {
     "ename": "ValueError",
     "evalue": "Buffer dtype mismatch, expected 'unsigned char' but got 'double'",
     "output_type": "error",
     "traceback": [
      "\u001b[0;31m---------------------------------------------------------------------------\u001b[0m",
      "\u001b[0;31mValueError\u001b[0m                                Traceback (most recent call last)",
      "Cell \u001b[0;32mIn[7], line 2\u001b[0m\n\u001b[1;32m      1\u001b[0m pred_img_path \u001b[38;5;241m=\u001b[39m \u001b[38;5;28msorted\u001b[39m(glob(\u001b[38;5;124m'\u001b[39m\u001b[38;5;124m/home/ubuntu/hrl/oem_mini_experiments/data/processing/OpenEarthMap_Mini/*/images/*.tif\u001b[39m\u001b[38;5;124m'\u001b[39m))[\u001b[38;5;241m25\u001b[39m]\n\u001b[0;32m----> 2\u001b[0m \u001b[43mviz_data\u001b[49m\u001b[43m(\u001b[49m\u001b[43mpred_img_path\u001b[49m\u001b[43m)\u001b[49m\n",
      "Cell \u001b[0;32mIn[6], line 33\u001b[0m, in \u001b[0;36mviz_data\u001b[0;34m(image_pth)\u001b[0m\n\u001b[1;32m     27\u001b[0m val_augm \u001b[38;5;241m=\u001b[39m torchvision\u001b[38;5;241m.\u001b[39mtransforms\u001b[38;5;241m.\u001b[39mCompose(\n\u001b[1;32m     28\u001b[0m                 [\n\u001b[1;32m     29\u001b[0m                     Resize(\u001b[38;5;241m512\u001b[39m),\n\u001b[1;32m     30\u001b[0m                 ],\n\u001b[1;32m     31\u001b[0m             )\n\u001b[1;32m     32\u001b[0m predict_loader \u001b[38;5;241m=\u001b[39m DataLoader(OEMMiniDataset(img_list, augm\u001b[38;5;241m=\u001b[39mval_augm), batch_size\u001b[38;5;241m=\u001b[39m\u001b[38;5;241m1\u001b[39m)\n\u001b[0;32m---> 33\u001b[0m crf, preds \u001b[38;5;241m=\u001b[39m \u001b[43mpred_labels\u001b[49m\u001b[43m(\u001b[49m\u001b[43mtrainer\u001b[49m\u001b[38;5;241;43m=\u001b[39;49m\u001b[43mtrainer\u001b[49m\u001b[43m,\u001b[49m\u001b[43m \u001b[49m\u001b[43mdataloader\u001b[49m\u001b[38;5;241;43m=\u001b[39;49m\u001b[43mpredict_loader\u001b[49m\u001b[43m,\u001b[49m\u001b[43m \u001b[49m\u001b[43mim\u001b[49m\u001b[38;5;241;43m=\u001b[39;49m\u001b[43mresize\u001b[49m\u001b[43m(\u001b[49m\u001b[43mimg\u001b[49m\u001b[43m,\u001b[49m\u001b[43m \u001b[49m\u001b[43m(\u001b[49m\u001b[38;5;241;43m512\u001b[39;49m\u001b[43m,\u001b[49m\u001b[43m \u001b[49m\u001b[38;5;241;43m512\u001b[39;49m\u001b[43m)\u001b[49m\u001b[43m,\u001b[49m\u001b[43m \u001b[49m\u001b[43manti_aliasing\u001b[49m\u001b[38;5;241;43m=\u001b[39;49m\u001b[38;5;28;43;01mTrue\u001b[39;49;00m\u001b[43m)\u001b[49m\u001b[43m)\u001b[49m\n\u001b[1;32m     34\u001b[0m plt\u001b[38;5;241m.\u001b[39mrcParams[\u001b[38;5;124m\"\u001b[39m\u001b[38;5;124mfigure.figsize\u001b[39m\u001b[38;5;124m\"\u001b[39m] \u001b[38;5;241m=\u001b[39m (\u001b[38;5;241m16\u001b[39m,\u001b[38;5;241m4\u001b[39m)\n\u001b[1;32m     35\u001b[0m \u001b[38;5;28;01mtry\u001b[39;00m:\n",
      "Cell \u001b[0;32mIn[6], line 15\u001b[0m, in \u001b[0;36mpred_labels\u001b[0;34m(trainer, dataloader, im)\u001b[0m\n\u001b[1;32m     12\u001b[0m \u001b[38;5;66;03m# U = -np.log(U)\u001b[39;00m\n\u001b[1;32m     13\u001b[0m d\u001b[38;5;241m.\u001b[39msetUnaryEnergy(U)\n\u001b[0;32m---> 15\u001b[0m \u001b[43md\u001b[49m\u001b[38;5;241;43m.\u001b[39;49m\u001b[43maddPairwiseBilateral\u001b[49m\u001b[43m(\u001b[49m\u001b[43msxy\u001b[49m\u001b[38;5;241;43m=\u001b[39;49m\u001b[43m(\u001b[49m\u001b[38;5;241;43m9\u001b[39;49m\u001b[43m,\u001b[49m\u001b[38;5;241;43m9\u001b[39;49m\u001b[43m)\u001b[49m\u001b[43m,\u001b[49m\u001b[43m \u001b[49m\u001b[43msrgb\u001b[49m\u001b[38;5;241;43m=\u001b[39;49m\u001b[43m(\u001b[49m\u001b[38;5;241;43m256\u001b[39;49m\u001b[43m,\u001b[49m\u001b[38;5;241;43m256\u001b[39;49m\u001b[43m,\u001b[49m\u001b[38;5;241;43m256\u001b[39;49m\u001b[43m)\u001b[49m\u001b[43m,\u001b[49m\u001b[43m \u001b[49m\u001b[43mrgbim\u001b[49m\u001b[38;5;241;43m=\u001b[39;49m\u001b[43mim\u001b[49m\u001b[43m,\u001b[49m\u001b[43m \u001b[49m\u001b[43mcompat\u001b[49m\u001b[38;5;241;43m=\u001b[39;49m\u001b[38;5;241;43m10\u001b[39;49m\u001b[43m,\u001b[49m\u001b[43m \u001b[49m\u001b[43mkernel\u001b[49m\u001b[38;5;241;43m=\u001b[39;49m\u001b[43mdcrf\u001b[49m\u001b[38;5;241;43m.\u001b[39;49m\u001b[43mDIAG_KERNEL\u001b[49m\u001b[43m,\u001b[49m\u001b[43m \u001b[49m\u001b[43mnormalization\u001b[49m\u001b[38;5;241;43m=\u001b[39;49m\u001b[43mdcrf\u001b[49m\u001b[38;5;241;43m.\u001b[39;49m\u001b[43mNORMALIZE_SYMMETRIC\u001b[49m\u001b[43m)\u001b[49m\n\u001b[1;32m     16\u001b[0m \u001b[38;5;66;03m# d.addPairwiseGaussian(sxy=3, compat=3)\u001b[39;00m\n\u001b[1;32m     17\u001b[0m Q \u001b[38;5;241m=\u001b[39m d\u001b[38;5;241m.\u001b[39minference(\u001b[38;5;241m3\u001b[39m)\n",
      "File \u001b[0;32mpydensecrf/densecrf.pyx:126\u001b[0m, in \u001b[0;36mpydensecrf.densecrf.DenseCRF2D.addPairwiseBilateral\u001b[0;34m()\u001b[0m\n",
      "\u001b[0;31mValueError\u001b[0m: Buffer dtype mismatch, expected 'unsigned char' but got 'double'"
     ]
    }
   ],
   "source": [
    "pred_img_path = sorted(glob('/home/ubuntu/hrl/oem_mini_experiments/data/processing/OpenEarthMap_Mini/*/images/*.tif'))[25]\n",
    "viz_data(pred_img_path)"
   ]
  },
  {
   "cell_type": "code",
   "execution_count": null,
   "metadata": {},
   "outputs": [],
   "source": []
  }
 ],
 "metadata": {
  "kernelspec": {
   "display_name": "pytorch",
   "language": "python",
   "name": "python3"
  },
  "language_info": {
   "codemirror_mode": {
    "name": "ipython",
    "version": 3
   },
   "file_extension": ".py",
   "mimetype": "text/x-python",
   "name": "python",
   "nbconvert_exporter": "python",
   "pygments_lexer": "ipython3",
   "version": "3.10.13"
  }
 },
 "nbformat": 4,
 "nbformat_minor": 2
}
