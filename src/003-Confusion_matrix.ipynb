{
 "cells": [
  {
   "cell_type": "code",
   "execution_count": 1,
   "metadata": {},
   "outputs": [],
   "source": [
    "from networks.UNet import LitUNet\n",
    "from lightning import Trainer\n",
    "# from torch.nn.functional import softmax\n",
    "import os\n",
    "# from skimage.io import imread\n",
    "import numpy as np\n",
    "import matplotlib.pyplot as plt\n",
    "# import torch\n",
    "from glob import glob\n",
    "from data.dataset import OEMMiniDataset\n",
    "from torch.utils.data import DataLoader\n",
    "from pathlib import Path"
   ]
  },
  {
   "cell_type": "code",
   "execution_count": 2,
   "metadata": {},
   "outputs": [
    {
     "name": "stderr",
     "output_type": "stream",
     "text": [
      "GPU available: True (cuda), used: True\n",
      "TPU available: False, using: 0 TPU cores\n",
      "IPU available: False, using: 0 IPUs\n",
      "HPU available: False, using: 0 HPUs\n",
      "/opt/conda/envs/pytorch/lib/python3.10/site-packages/lightning/pytorch/trainer/connectors/logger_connector/logger_connector.py:75: Starting from v1.9.0, `tensorboardX` has been removed as a dependency of the `lightning.pytorch` package, due to potential conflicts with other packages in the ML ecosystem. For this reason, `logger=True` will use `CSVLogger` as the default logger, unless the `tensorboard` or `tensorboardX` packages are found. Please `pip install lightning[extra]` or one of them to enable TensorBoard support by default\n"
     ]
    }
   ],
   "source": [
    "# map_location = {'cuda:0':'cpu'}\n",
    "ckpt_pth = glob('/home/ubuntu/hrl/oem_mini_experiments/.neptune/Untitled/MIN-38/checkpoints/*.ckpt')\n",
    "model = LitUNet.load_from_checkpoint(checkpoint_path=ckpt_pth[0], map_location='cpu')\n",
    "trainer = Trainer(accelerator='gpu',num_nodes=1)"
   ]
  },
  {
   "cell_type": "code",
   "execution_count": 3,
   "metadata": {},
   "outputs": [
    {
     "name": "stdout",
     "output_type": "stream",
     "text": [
      "1068\n",
      "755\n",
      "0\n"
     ]
    }
   ],
   "source": [
    "DATA_DIR = \"/home/ubuntu/hrl/oem_mini_experiments/data/processing/OpenEarthMap_Mini\"\n",
    "VAL_LIST = os.path.join(DATA_DIR, \"val.txt\")\n",
    "fns = [f for f in Path(DATA_DIR).rglob(\"*tif\") if \"/images/\" in str(f)]\n",
    "print(len(fns))\n",
    "fns = [f for f in fns if os.path.exists(str(f).replace('/images/', '/labels/'))]\n",
    "print(len(fns))\n",
    "val_list = [str(f)\n",
    "            for f in fns\n",
    "            if \"_\".join(f.name.split(\"_\")[:-2]) + \".tif\"\n",
    "            in np.loadtxt(VAL_LIST, dtype=str)\n",
    "        ]\n",
    "print(len(val_list))"
   ]
  },
  {
   "cell_type": "code",
   "execution_count": 25,
   "metadata": {},
   "outputs": [],
   "source": [
    "# val_list = val_list[:100]\n",
    "val_list = fns[:200]"
   ]
  },
  {
   "cell_type": "code",
   "execution_count": 26,
   "metadata": {},
   "outputs": [],
   "source": [
    "def pred_labels(trainer, dataloader):\n",
    "    preds = trainer.predict(model, dataloaders=dataloader)\n",
    "    # preds = torch.argmax(softmax(input=preds, dim=1), dim=1).permute(1,2,0).numpy()\n",
    "    return preds"
   ]
  },
  {
   "cell_type": "code",
   "execution_count": 27,
   "metadata": {},
   "outputs": [],
   "source": [
    "OEM_pred = DataLoader(OEMMiniDataset(img_list=val_list, testing=False, augm=None), shuffle=False)"
   ]
  },
  {
   "cell_type": "code",
   "execution_count": 28,
   "metadata": {},
   "outputs": [
    {
     "name": "stderr",
     "output_type": "stream",
     "text": [
      "LOCAL_RANK: 0 - CUDA_VISIBLE_DEVICES: [0]\n",
      "/opt/conda/envs/pytorch/lib/python3.10/site-packages/lightning/pytorch/trainer/connectors/data_connector.py:441: The 'predict_dataloader' does not have many workers which may be a bottleneck. Consider increasing the value of the `num_workers` argument` to `num_workers=7` in the `DataLoader` to improve performance.\n"
     ]
    },
    {
     "data": {
      "application/vnd.jupyter.widget-view+json": {
       "model_id": "00e66af364e64bb5b3e30b4a19b209dc",
       "version_major": 2,
       "version_minor": 0
      },
      "text/plain": [
       "Predicting: |          | 0/? [00:00<?, ?it/s]"
      ]
     },
     "metadata": {},
     "output_type": "display_data"
    }
   ],
   "source": [
    "pred_labels = pred_labels(trainer=trainer, dataloader=OEM_pred)"
   ]
  },
  {
   "cell_type": "code",
   "execution_count": 29,
   "metadata": {},
   "outputs": [],
   "source": [
    "true = np.concatenate([preds[1].flatten() for preds in pred_labels])\n",
    "pred = np.concatenate([preds[0].flatten() for preds in pred_labels])"
   ]
  },
  {
   "cell_type": "code",
   "execution_count": 30,
   "metadata": {},
   "outputs": [],
   "source": [
    "import seaborn as sns\n",
    "import pandas as pd"
   ]
  },
  {
   "cell_type": "code",
   "execution_count": 31,
   "metadata": {},
   "outputs": [],
   "source": [
    "from sklearn.metrics import confusion_matrix\n",
    "cm = confusion_matrix(true, pred, normalize='true')"
   ]
  },
  {
   "cell_type": "code",
   "execution_count": 32,
   "metadata": {},
   "outputs": [
    {
     "data": {
      "text/plain": [
       "(array([0, 1, 2, 3, 4, 5, 6, 7, 8]),\n",
       " array([ 1871254,  4078177, 51277152, 31185747, 11233270, 43996024,\n",
       "         7357201, 32562799, 26153576]))"
      ]
     },
     "execution_count": 32,
     "metadata": {},
     "output_type": "execute_result"
    }
   ],
   "source": [
    "np.unique(true, return_counts=True)"
   ]
  },
  {
   "cell_type": "code",
   "execution_count": 33,
   "metadata": {},
   "outputs": [
    {
     "data": {
      "text/plain": [
       "(array([2, 3, 4, 5, 6, 7, 8]),\n",
       " array([48765316, 33699629, 12397111, 51148766,  9003756, 29414182,\n",
       "        25286440]))"
      ]
     },
     "execution_count": 33,
     "metadata": {},
     "output_type": "execute_result"
    }
   ],
   "source": [
    "np.unique(pred, return_counts=True)"
   ]
  },
  {
   "cell_type": "code",
   "execution_count": 34,
   "metadata": {},
   "outputs": [],
   "source": [
    "# Creating a dataframe for a array-formatted Confusion matrix,so it will be easy for plotting.\n",
    "cm_df = pd.DataFrame(cm,\n",
    "                     index = list(np.unique([true, pred])), \n",
    "                     columns = list(np.unique([true, pred]))\n",
    "                     )"
   ]
  },
  {
   "cell_type": "code",
   "execution_count": 35,
   "metadata": {},
   "outputs": [
    {
     "data": {
      "text/html": [
       "<div>\n",
       "<style scoped>\n",
       "    .dataframe tbody tr th:only-of-type {\n",
       "        vertical-align: middle;\n",
       "    }\n",
       "\n",
       "    .dataframe tbody tr th {\n",
       "        vertical-align: top;\n",
       "    }\n",
       "\n",
       "    .dataframe thead th {\n",
       "        text-align: right;\n",
       "    }\n",
       "</style>\n",
       "<table border=\"1\" class=\"dataframe\">\n",
       "  <thead>\n",
       "    <tr style=\"text-align: right;\">\n",
       "      <th></th>\n",
       "      <th>0</th>\n",
       "      <th>1</th>\n",
       "      <th>2</th>\n",
       "      <th>3</th>\n",
       "      <th>4</th>\n",
       "      <th>5</th>\n",
       "      <th>6</th>\n",
       "      <th>7</th>\n",
       "      <th>8</th>\n",
       "    </tr>\n",
       "  </thead>\n",
       "  <tbody>\n",
       "    <tr>\n",
       "      <th>0</th>\n",
       "      <td>0.0</td>\n",
       "      <td>0.0</td>\n",
       "      <td>0.949403</td>\n",
       "      <td>0.025273</td>\n",
       "      <td>0.002225</td>\n",
       "      <td>0.002732</td>\n",
       "      <td>0.015100</td>\n",
       "      <td>0.004343</td>\n",
       "      <td>0.000923</td>\n",
       "    </tr>\n",
       "    <tr>\n",
       "      <th>1</th>\n",
       "      <td>0.0</td>\n",
       "      <td>0.0</td>\n",
       "      <td>0.197360</td>\n",
       "      <td>0.449649</td>\n",
       "      <td>0.005776</td>\n",
       "      <td>0.180952</td>\n",
       "      <td>0.110476</td>\n",
       "      <td>0.055499</td>\n",
       "      <td>0.000289</td>\n",
       "    </tr>\n",
       "    <tr>\n",
       "      <th>2</th>\n",
       "      <td>0.0</td>\n",
       "      <td>0.0</td>\n",
       "      <td>0.668156</td>\n",
       "      <td>0.061261</td>\n",
       "      <td>0.010302</td>\n",
       "      <td>0.181985</td>\n",
       "      <td>0.015906</td>\n",
       "      <td>0.054018</td>\n",
       "      <td>0.008372</td>\n",
       "    </tr>\n",
       "    <tr>\n",
       "      <th>3</th>\n",
       "      <td>0.0</td>\n",
       "      <td>0.0</td>\n",
       "      <td>0.069182</td>\n",
       "      <td>0.732045</td>\n",
       "      <td>0.071834</td>\n",
       "      <td>0.025269</td>\n",
       "      <td>0.009778</td>\n",
       "      <td>0.014660</td>\n",
       "      <td>0.077233</td>\n",
       "    </tr>\n",
       "    <tr>\n",
       "      <th>4</th>\n",
       "      <td>0.0</td>\n",
       "      <td>0.0</td>\n",
       "      <td>0.023480</td>\n",
       "      <td>0.150614</td>\n",
       "      <td>0.798627</td>\n",
       "      <td>0.012078</td>\n",
       "      <td>0.004931</td>\n",
       "      <td>0.005758</td>\n",
       "      <td>0.004511</td>\n",
       "    </tr>\n",
       "  </tbody>\n",
       "</table>\n",
       "</div>"
      ],
      "text/plain": [
       "     0    1         2         3         4         5         6         7  \\\n",
       "0  0.0  0.0  0.949403  0.025273  0.002225  0.002732  0.015100  0.004343   \n",
       "1  0.0  0.0  0.197360  0.449649  0.005776  0.180952  0.110476  0.055499   \n",
       "2  0.0  0.0  0.668156  0.061261  0.010302  0.181985  0.015906  0.054018   \n",
       "3  0.0  0.0  0.069182  0.732045  0.071834  0.025269  0.009778  0.014660   \n",
       "4  0.0  0.0  0.023480  0.150614  0.798627  0.012078  0.004931  0.005758   \n",
       "\n",
       "          8  \n",
       "0  0.000923  \n",
       "1  0.000289  \n",
       "2  0.008372  \n",
       "3  0.077233  \n",
       "4  0.004511  "
      ]
     },
     "execution_count": 35,
     "metadata": {},
     "output_type": "execute_result"
    }
   ],
   "source": [
    "cm_df.head()"
   ]
  },
  {
   "cell_type": "code",
   "execution_count": 36,
   "metadata": {},
   "outputs": [
    {
     "data": {
      "text/html": [
       "<div>\n",
       "<style scoped>\n",
       "    .dataframe tbody tr th:only-of-type {\n",
       "        vertical-align: middle;\n",
       "    }\n",
       "\n",
       "    .dataframe tbody tr th {\n",
       "        vertical-align: top;\n",
       "    }\n",
       "\n",
       "    .dataframe thead th {\n",
       "        text-align: right;\n",
       "    }\n",
       "</style>\n",
       "<table border=\"1\" class=\"dataframe\">\n",
       "  <thead>\n",
       "    <tr style=\"text-align: right;\">\n",
       "      <th></th>\n",
       "      <th>1</th>\n",
       "      <th>2</th>\n",
       "      <th>3</th>\n",
       "      <th>4</th>\n",
       "      <th>5</th>\n",
       "      <th>6</th>\n",
       "      <th>7</th>\n",
       "      <th>8</th>\n",
       "    </tr>\n",
       "  </thead>\n",
       "  <tbody>\n",
       "    <tr>\n",
       "      <th>1</th>\n",
       "      <td>0.0</td>\n",
       "      <td>0.197360</td>\n",
       "      <td>0.449649</td>\n",
       "      <td>0.005776</td>\n",
       "      <td>0.180952</td>\n",
       "      <td>0.110476</td>\n",
       "      <td>0.055499</td>\n",
       "      <td>0.000289</td>\n",
       "    </tr>\n",
       "    <tr>\n",
       "      <th>2</th>\n",
       "      <td>0.0</td>\n",
       "      <td>0.668156</td>\n",
       "      <td>0.061261</td>\n",
       "      <td>0.010302</td>\n",
       "      <td>0.181985</td>\n",
       "      <td>0.015906</td>\n",
       "      <td>0.054018</td>\n",
       "      <td>0.008372</td>\n",
       "    </tr>\n",
       "    <tr>\n",
       "      <th>3</th>\n",
       "      <td>0.0</td>\n",
       "      <td>0.069182</td>\n",
       "      <td>0.732045</td>\n",
       "      <td>0.071834</td>\n",
       "      <td>0.025269</td>\n",
       "      <td>0.009778</td>\n",
       "      <td>0.014660</td>\n",
       "      <td>0.077233</td>\n",
       "    </tr>\n",
       "    <tr>\n",
       "      <th>4</th>\n",
       "      <td>0.0</td>\n",
       "      <td>0.023480</td>\n",
       "      <td>0.150614</td>\n",
       "      <td>0.798627</td>\n",
       "      <td>0.012078</td>\n",
       "      <td>0.004931</td>\n",
       "      <td>0.005758</td>\n",
       "      <td>0.004511</td>\n",
       "    </tr>\n",
       "    <tr>\n",
       "      <th>5</th>\n",
       "      <td>0.0</td>\n",
       "      <td>0.082768</td>\n",
       "      <td>0.012115</td>\n",
       "      <td>0.003226</td>\n",
       "      <td>0.884660</td>\n",
       "      <td>0.002800</td>\n",
       "      <td>0.012230</td>\n",
       "      <td>0.002201</td>\n",
       "    </tr>\n",
       "    <tr>\n",
       "      <th>6</th>\n",
       "      <td>0.0</td>\n",
       "      <td>0.040435</td>\n",
       "      <td>0.027465</td>\n",
       "      <td>0.014508</td>\n",
       "      <td>0.018476</td>\n",
       "      <td>0.861715</td>\n",
       "      <td>0.033412</td>\n",
       "      <td>0.003989</td>\n",
       "    </tr>\n",
       "    <tr>\n",
       "      <th>7</th>\n",
       "      <td>0.0</td>\n",
       "      <td>0.158740</td>\n",
       "      <td>0.011636</td>\n",
       "      <td>0.003795</td>\n",
       "      <td>0.026059</td>\n",
       "      <td>0.021722</td>\n",
       "      <td>0.766564</td>\n",
       "      <td>0.011485</td>\n",
       "    </tr>\n",
       "    <tr>\n",
       "      <th>8</th>\n",
       "      <td>0.0</td>\n",
       "      <td>0.015047</td>\n",
       "      <td>0.116316</td>\n",
       "      <td>0.009845</td>\n",
       "      <td>0.009340</td>\n",
       "      <td>0.006834</td>\n",
       "      <td>0.005454</td>\n",
       "      <td>0.837164</td>\n",
       "    </tr>\n",
       "  </tbody>\n",
       "</table>\n",
       "</div>"
      ],
      "text/plain": [
       "     1         2         3         4         5         6         7         8\n",
       "1  0.0  0.197360  0.449649  0.005776  0.180952  0.110476  0.055499  0.000289\n",
       "2  0.0  0.668156  0.061261  0.010302  0.181985  0.015906  0.054018  0.008372\n",
       "3  0.0  0.069182  0.732045  0.071834  0.025269  0.009778  0.014660  0.077233\n",
       "4  0.0  0.023480  0.150614  0.798627  0.012078  0.004931  0.005758  0.004511\n",
       "5  0.0  0.082768  0.012115  0.003226  0.884660  0.002800  0.012230  0.002201\n",
       "6  0.0  0.040435  0.027465  0.014508  0.018476  0.861715  0.033412  0.003989\n",
       "7  0.0  0.158740  0.011636  0.003795  0.026059  0.021722  0.766564  0.011485\n",
       "8  0.0  0.015047  0.116316  0.009845  0.009340  0.006834  0.005454  0.837164"
      ]
     },
     "execution_count": 36,
     "metadata": {},
     "output_type": "execute_result"
    }
   ],
   "source": [
    "drop_cm = cm_df\n",
    "drop_cm = cm_df.drop([0], axis=0)\n",
    "drop_cm = drop_cm.drop([0], axis=1)\n",
    "drop_cm"
   ]
  },
  {
   "cell_type": "code",
   "execution_count": 37,
   "metadata": {},
   "outputs": [
    {
     "data": {
      "image/png": "[encoded data removed]",
      "text/plain": [
       "<Figure size 1000x800 with 2 Axes>"
      ]
     },
     "metadata": {},
     "output_type": "display_data"
    },
    {
     "ename": "",
     "evalue": "",
     "output_type": "error",
     "traceback": [
      "\u001b[1;31mThe Kernel crashed while executing code in the current cell or a previous cell. \n",
      "\u001b[1;31mPlease review the code in the cell(s) to identify a possible cause of the failure. \n",
      "\u001b[1;31mClick <a href='https://aka.ms/vscodeJupyterKernelCrash'>here</a> for more info. \n",
      "\u001b[1;31mView Jupyter <a href='command:jupyter.viewOutput'>log</a> for further details."
     ]
    }
   ],
   "source": [
    "#Plotting the confusion matrix\n",
    "plt.figure(figsize=(10,8))\n",
    "sns.heatmap(drop_cm, annot=True)\n",
    "plt.title('Confusion Matrix')\n",
    "plt.ylabel('Actal Values')\n",
    "plt.xlabel('Predicted Values')\n",
    "plt.show()"
   ]
  },
  {
   "cell_type": "code",
   "execution_count": null,
   "metadata": {},
   "outputs": [],
   "source": []
  }
 ],
 "metadata": {
  "kernelspec": {
   "display_name": "pytorch",
   "language": "python",
   "name": "python3"
  },
  "language_info": {
   "codemirror_mode": {
    "name": "ipython",
    "version": 3
   },
   "file_extension": ".py",
   "mimetype": "text/x-python",
   "name": "python",
   "nbconvert_exporter": "python",
   "pygments_lexer": "ipython3",
   "version": "3.10.13"
  }
 },
 "nbformat": 4,
 "nbformat_minor": 2
}
