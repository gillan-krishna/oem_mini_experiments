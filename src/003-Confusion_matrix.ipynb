{
 "cells": [
  {
   "cell_type": "code",
   "execution_count": 2,
   "metadata": {},
   "outputs": [],
   "source": [
    "from networks.UNet import LitUNet\n",
    "from lightning import Trainer\n",
    "# from torch.nn.functional import softmax\n",
    "import os\n",
    "# from skimage.io import imread\n",
    "import numpy as np\n",
    "import matplotlib.pyplot as plt\n",
    "# import torch\n",
    "from glob import glob\n",
    "from data.dataset import OEMMiniDataset\n",
    "from torch.utils.data import DataLoader\n",
    "from pathlib import Path"
   ]
  },
  {
   "cell_type": "code",
   "execution_count": 3,
   "metadata": {},
   "outputs": [
    {
     "name": "stderr",
     "output_type": "stream",
     "text": [
      "GPU available: True (cuda), used: True\n",
      "TPU available: False, using: 0 TPU cores\n",
      "IPU available: False, using: 0 IPUs\n",
      "HPU available: False, using: 0 HPUs\n",
      "/opt/conda/envs/pytorch/lib/python3.10/site-packages/lightning/pytorch/trainer/connectors/logger_connector/logger_connector.py:75: Starting from v1.9.0, `tensorboardX` has been removed as a dependency of the `lightning.pytorch` package, due to potential conflicts with other packages in the ML ecosystem. For this reason, `logger=True` will use `CSVLogger` as the default logger, unless the `tensorboard` or `tensorboardX` packages are found. Please `pip install lightning[extra]` or one of them to enable TensorBoard support by default\n"
     ]
    }
   ],
   "source": [
    "# map_location = {'cuda:0':'cpu'}\n",
    "ckpt_pth = glob('/home/ubuntu/hrl/oem_mini_experiments/.neptune/Untitled/MIN-38/checkpoints/*.ckpt')\n",
    "model = LitUNet.load_from_checkpoint(checkpoint_path=ckpt_pth[0], map_location='cpu')\n",
    "trainer = Trainer(accelerator='gpu',num_nodes=1)"
   ]
  },
  {
   "cell_type": "code",
   "execution_count": 16,
   "metadata": {},
   "outputs": [
    {
     "name": "stdout",
     "output_type": "stream",
     "text": [
      "1068\n",
      "755\n",
      "0\n"
     ]
    }
   ],
   "source": [
    "DATA_DIR = \"/home/ubuntu/hrl/oem_mini_experiments/data/processing/OpenEarthMap_Mini\"\n",
    "VAL_LIST = os.path.join(DATA_DIR, \"val.txt\")\n",
    "fns = [f for f in Path(DATA_DIR).rglob(\"*tif\") if \"/images/\" in str(f)]\n",
    "print(len(fns))\n",
    "fns = [f for f in fns if os.path.exists(str(f).replace('/images/', '/labels/'))]\n",
    "print(len(fns))\n",
    "val_list = [str(f)\n",
    "            for f in fns\n",
    "            if \"_\".join(f.name.split(\"_\")[:-2]) + \".tif\"\n",
    "            in np.loadtxt(VAL_LIST, dtype=str)\n",
    "        ]\n",
    "print(len(val_list))"
   ]
  },
  {
   "cell_type": "code",
   "execution_count": 17,
   "metadata": {},
   "outputs": [],
   "source": [
    "# val_list = val_list[:100]\n",
    "val_list = fns[:100]"
   ]
  },
  {
   "cell_type": "code",
   "execution_count": 18,
   "metadata": {},
   "outputs": [],
   "source": [
    "def pred_labels(trainer, dataloader):\n",
    "    preds = trainer.predict(model, dataloaders=dataloader)\n",
    "    # preds = torch.argmax(softmax(input=preds, dim=1), dim=1).permute(1,2,0).numpy()\n",
    "    return preds"
   ]
  },
  {
   "cell_type": "code",
   "execution_count": 19,
   "metadata": {},
   "outputs": [],
   "source": [
    "OEM_pred = DataLoader(OEMMiniDataset(img_list=val_list, testing=False, augm=None), shuffle=False)"
   ]
  },
  {
   "cell_type": "code",
   "execution_count": 20,
   "metadata": {},
   "outputs": [
    {
     "name": "stderr",
     "output_type": "stream",
     "text": [
      "LOCAL_RANK: 0 - CUDA_VISIBLE_DEVICES: [0]\n",
      "/opt/conda/envs/pytorch/lib/python3.10/site-packages/lightning/pytorch/trainer/connectors/data_connector.py:441: The 'predict_dataloader' does not have many workers which may be a bottleneck. Consider increasing the value of the `num_workers` argument` to `num_workers=7` in the `DataLoader` to improve performance.\n"
     ]
    },
    {
     "data": {
      "application/vnd.jupyter.widget-view+json": {
       "model_id": "fe1b92adc9ac4aa99df2d59a4ae1fd56",
       "version_major": 2,
       "version_minor": 0
      },
      "text/plain": [
       "Predicting: |          | 0/? [00:00<?, ?it/s]"
      ]
     },
     "metadata": {},
     "output_type": "display_data"
    }
   ],
   "source": [
    "pred_labels = pred_labels(trainer=trainer, dataloader=OEM_pred)"
   ]
  },
  {
   "cell_type": "code",
   "execution_count": 21,
   "metadata": {},
   "outputs": [],
   "source": [
    "true = np.concatenate([preds[1].flatten() for preds in pred_labels])\n",
    "pred = np.concatenate([preds[0].flatten() for preds in pred_labels])"
   ]
  },
  {
   "cell_type": "code",
   "execution_count": 22,
   "metadata": {},
   "outputs": [],
   "source": [
    "import seaborn as sns\n",
    "import pandas as pd"
   ]
  },
  {
   "cell_type": "code",
   "execution_count": 23,
   "metadata": {},
   "outputs": [],
   "source": [
    "from sklearn.metrics import confusion_matrix\n",
    "cm = confusion_matrix(true, pred, normalize='true')"
   ]
  },
  {
   "cell_type": "code",
   "execution_count": 24,
   "metadata": {},
   "outputs": [
    {
     "data": {
      "text/plain": [
       "(array([0, 1, 2, 3, 4, 5, 6, 7, 8]),\n",
       " array([  410863,  1726227, 21573469, 19032684,  6505765, 16429711,\n",
       "         3984135, 19357588, 15837158]))"
      ]
     },
     "execution_count": 24,
     "metadata": {},
     "output_type": "execute_result"
    }
   ],
   "source": [
    "np.unique(true, return_counts=True)"
   ]
  },
  {
   "cell_type": "code",
   "execution_count": 25,
   "metadata": {},
   "outputs": [
    {
     "data": {
      "text/plain": [
       "(array([2, 3, 4, 5, 6, 7, 8]),\n",
       " array([17783135, 18256927,  6979625, 18296577,  3899719, 23562968,\n",
       "        16078649]))"
      ]
     },
     "execution_count": 25,
     "metadata": {},
     "output_type": "execute_result"
    }
   ],
   "source": [
    "np.unique(pred, return_counts=True)"
   ]
  },
  {
   "cell_type": "code",
   "execution_count": 26,
   "metadata": {},
   "outputs": [],
   "source": [
    "# Creating a dataframe for a array-formatted Confusion matrix,so it will be easy for plotting.\n",
    "cm_df = pd.DataFrame(cm,\n",
    "                     index = list(np.unique([true, pred])), \n",
    "                     columns = list(np.unique([true, pred]))\n",
    "                     )"
   ]
  },
  {
   "cell_type": "code",
   "execution_count": 30,
   "metadata": {},
   "outputs": [
    {
     "data": {
      "text/html": [
       "<div>\n",
       "<style scoped>\n",
       "    .dataframe tbody tr th:only-of-type {\n",
       "        vertical-align: middle;\n",
       "    }\n",
       "\n",
       "    .dataframe tbody tr th {\n",
       "        vertical-align: top;\n",
       "    }\n",
       "\n",
       "    .dataframe thead th {\n",
       "        text-align: right;\n",
       "    }\n",
       "</style>\n",
       "<table border=\"1\" class=\"dataframe\">\n",
       "  <thead>\n",
       "    <tr style=\"text-align: right;\">\n",
       "      <th></th>\n",
       "      <th>0</th>\n",
       "      <th>1</th>\n",
       "      <th>2</th>\n",
       "      <th>3</th>\n",
       "      <th>4</th>\n",
       "      <th>5</th>\n",
       "      <th>6</th>\n",
       "      <th>7</th>\n",
       "      <th>8</th>\n",
       "    </tr>\n",
       "  </thead>\n",
       "  <tbody>\n",
       "    <tr>\n",
       "      <th>0</th>\n",
       "      <td>0.0</td>\n",
       "      <td>0.0</td>\n",
       "      <td>0.978594</td>\n",
       "      <td>0.013630</td>\n",
       "      <td>0.001572</td>\n",
       "      <td>0.000813</td>\n",
       "      <td>0.000932</td>\n",
       "      <td>0.003624</td>\n",
       "      <td>0.000835</td>\n",
       "    </tr>\n",
       "    <tr>\n",
       "      <th>1</th>\n",
       "      <td>0.0</td>\n",
       "      <td>0.0</td>\n",
       "      <td>0.046007</td>\n",
       "      <td>0.520410</td>\n",
       "      <td>0.024196</td>\n",
       "      <td>0.005531</td>\n",
       "      <td>0.022536</td>\n",
       "      <td>0.380832</td>\n",
       "      <td>0.000490</td>\n",
       "    </tr>\n",
       "    <tr>\n",
       "      <th>2</th>\n",
       "      <td>0.0</td>\n",
       "      <td>0.0</td>\n",
       "      <td>0.597992</td>\n",
       "      <td>0.056911</td>\n",
       "      <td>0.008816</td>\n",
       "      <td>0.152102</td>\n",
       "      <td>0.004705</td>\n",
       "      <td>0.163953</td>\n",
       "      <td>0.015521</td>\n",
       "    </tr>\n",
       "    <tr>\n",
       "      <th>3</th>\n",
       "      <td>0.0</td>\n",
       "      <td>0.0</td>\n",
       "      <td>0.076072</td>\n",
       "      <td>0.710446</td>\n",
       "      <td>0.080501</td>\n",
       "      <td>0.027152</td>\n",
       "      <td>0.003756</td>\n",
       "      <td>0.020029</td>\n",
       "      <td>0.082044</td>\n",
       "    </tr>\n",
       "    <tr>\n",
       "      <th>4</th>\n",
       "      <td>0.0</td>\n",
       "      <td>0.0</td>\n",
       "      <td>0.033903</td>\n",
       "      <td>0.149504</td>\n",
       "      <td>0.786150</td>\n",
       "      <td>0.014071</td>\n",
       "      <td>0.001036</td>\n",
       "      <td>0.010587</td>\n",
       "      <td>0.004749</td>\n",
       "    </tr>\n",
       "  </tbody>\n",
       "</table>\n",
       "</div>"
      ],
      "text/plain": [
       "     0    1         2         3         4         5         6         7  \\\n",
       "0  0.0  0.0  0.978594  0.013630  0.001572  0.000813  0.000932  0.003624   \n",
       "1  0.0  0.0  0.046007  0.520410  0.024196  0.005531  0.022536  0.380832   \n",
       "2  0.0  0.0  0.597992  0.056911  0.008816  0.152102  0.004705  0.163953   \n",
       "3  0.0  0.0  0.076072  0.710446  0.080501  0.027152  0.003756  0.020029   \n",
       "4  0.0  0.0  0.033903  0.149504  0.786150  0.014071  0.001036  0.010587   \n",
       "\n",
       "          8  \n",
       "0  0.000835  \n",
       "1  0.000490  \n",
       "2  0.015521  \n",
       "3  0.082044  \n",
       "4  0.004749  "
      ]
     },
     "execution_count": 30,
     "metadata": {},
     "output_type": "execute_result"
    }
   ],
   "source": [
    "cm_df.head()"
   ]
  },
  {
   "cell_type": "code",
   "execution_count": 37,
   "metadata": {},
   "outputs": [
    {
     "data": {
      "text/html": [
       "<div>\n",
       "<style scoped>\n",
       "    .dataframe tbody tr th:only-of-type {\n",
       "        vertical-align: middle;\n",
       "    }\n",
       "\n",
       "    .dataframe tbody tr th {\n",
       "        vertical-align: top;\n",
       "    }\n",
       "\n",
       "    .dataframe thead th {\n",
       "        text-align: right;\n",
       "    }\n",
       "</style>\n",
       "<table border=\"1\" class=\"dataframe\">\n",
       "  <thead>\n",
       "    <tr style=\"text-align: right;\">\n",
       "      <th></th>\n",
       "      <th>1</th>\n",
       "      <th>2</th>\n",
       "      <th>3</th>\n",
       "      <th>4</th>\n",
       "      <th>5</th>\n",
       "      <th>6</th>\n",
       "      <th>7</th>\n",
       "      <th>8</th>\n",
       "    </tr>\n",
       "  </thead>\n",
       "  <tbody>\n",
       "    <tr>\n",
       "      <th>1</th>\n",
       "      <td>0.0</td>\n",
       "      <td>0.046007</td>\n",
       "      <td>0.520410</td>\n",
       "      <td>0.024196</td>\n",
       "      <td>0.005531</td>\n",
       "      <td>0.022536</td>\n",
       "      <td>0.380832</td>\n",
       "      <td>0.000490</td>\n",
       "    </tr>\n",
       "    <tr>\n",
       "      <th>2</th>\n",
       "      <td>0.0</td>\n",
       "      <td>0.597992</td>\n",
       "      <td>0.056911</td>\n",
       "      <td>0.008816</td>\n",
       "      <td>0.152102</td>\n",
       "      <td>0.004705</td>\n",
       "      <td>0.163953</td>\n",
       "      <td>0.015521</td>\n",
       "    </tr>\n",
       "    <tr>\n",
       "      <th>3</th>\n",
       "      <td>0.0</td>\n",
       "      <td>0.076072</td>\n",
       "      <td>0.710446</td>\n",
       "      <td>0.080501</td>\n",
       "      <td>0.027152</td>\n",
       "      <td>0.003756</td>\n",
       "      <td>0.020029</td>\n",
       "      <td>0.082044</td>\n",
       "    </tr>\n",
       "    <tr>\n",
       "      <th>4</th>\n",
       "      <td>0.0</td>\n",
       "      <td>0.033903</td>\n",
       "      <td>0.149504</td>\n",
       "      <td>0.786150</td>\n",
       "      <td>0.014071</td>\n",
       "      <td>0.001036</td>\n",
       "      <td>0.010587</td>\n",
       "      <td>0.004749</td>\n",
       "    </tr>\n",
       "    <tr>\n",
       "      <th>5</th>\n",
       "      <td>0.0</td>\n",
       "      <td>0.093256</td>\n",
       "      <td>0.012222</td>\n",
       "      <td>0.002041</td>\n",
       "      <td>0.849575</td>\n",
       "      <td>0.002556</td>\n",
       "      <td>0.036435</td>\n",
       "      <td>0.003915</td>\n",
       "    </tr>\n",
       "    <tr>\n",
       "      <th>6</th>\n",
       "      <td>0.0</td>\n",
       "      <td>0.048729</td>\n",
       "      <td>0.017434</td>\n",
       "      <td>0.004708</td>\n",
       "      <td>0.005872</td>\n",
       "      <td>0.900036</td>\n",
       "      <td>0.014132</td>\n",
       "      <td>0.009090</td>\n",
       "    </tr>\n",
       "    <tr>\n",
       "      <th>7</th>\n",
       "      <td>0.0</td>\n",
       "      <td>0.041804</td>\n",
       "      <td>0.002737</td>\n",
       "      <td>0.000824</td>\n",
       "      <td>0.014276</td>\n",
       "      <td>0.001939</td>\n",
       "      <td>0.938120</td>\n",
       "      <td>0.000300</td>\n",
       "    </tr>\n",
       "    <tr>\n",
       "      <th>8</th>\n",
       "      <td>0.0</td>\n",
       "      <td>0.012434</td>\n",
       "      <td>0.082567</td>\n",
       "      <td>0.002029</td>\n",
       "      <td>0.008777</td>\n",
       "      <td>0.000966</td>\n",
       "      <td>0.006461</td>\n",
       "      <td>0.886767</td>\n",
       "    </tr>\n",
       "  </tbody>\n",
       "</table>\n",
       "</div>"
      ],
      "text/plain": [
       "     1         2         3         4         5         6         7         8\n",
       "1  0.0  0.046007  0.520410  0.024196  0.005531  0.022536  0.380832  0.000490\n",
       "2  0.0  0.597992  0.056911  0.008816  0.152102  0.004705  0.163953  0.015521\n",
       "3  0.0  0.076072  0.710446  0.080501  0.027152  0.003756  0.020029  0.082044\n",
       "4  0.0  0.033903  0.149504  0.786150  0.014071  0.001036  0.010587  0.004749\n",
       "5  0.0  0.093256  0.012222  0.002041  0.849575  0.002556  0.036435  0.003915\n",
       "6  0.0  0.048729  0.017434  0.004708  0.005872  0.900036  0.014132  0.009090\n",
       "7  0.0  0.041804  0.002737  0.000824  0.014276  0.001939  0.938120  0.000300\n",
       "8  0.0  0.012434  0.082567  0.002029  0.008777  0.000966  0.006461  0.886767"
      ]
     },
     "execution_count": 37,
     "metadata": {},
     "output_type": "execute_result"
    }
   ],
   "source": [
    "drop_cm = cm_df.drop(0, axis=0)\n",
    "drop_cm = drop_cm.drop([0], axis=1)\n",
    "drop_cm"
   ]
  },
  {
   "cell_type": "code",
   "execution_count": 38,
   "metadata": {},
   "outputs": [
    {
     "data": {
      "image/png": "[encoded data removed]",
      "text/plain": [
       "<Figure size 1000x800 with 2 Axes>"
      ]
     },
     "metadata": {},
     "output_type": "display_data"
    }
   ],
   "source": [
    "#Plotting the confusion matrix\n",
    "plt.figure(figsize=(10,8))\n",
    "sns.heatmap(drop_cm, annot=True)\n",
    "plt.title('Confusion Matrix')\n",
    "plt.ylabel('Actal Values')\n",
    "plt.xlabel('Predicted Values')\n",
    "plt.show()"
   ]
  },
  {
   "cell_type": "code",
   "execution_count": null,
   "metadata": {},
   "outputs": [],
   "source": []
  }
 ],
 "metadata": {
  "kernelspec": {
   "display_name": "pytorch",
   "language": "python",
   "name": "python3"
  },
  "language_info": {
   "codemirror_mode": {
    "name": "ipython",
    "version": 3
   },
   "file_extension": ".py",
   "mimetype": "text/x-python",
   "name": "python",
   "nbconvert_exporter": "python",
   "pygments_lexer": "ipython3",
   "version": "3.10.13"
  }
 },
 "nbformat": 4,
 "nbformat_minor": 2
}
